{
 "cells": [
  {
   "cell_type": "markdown",
   "metadata": {},
   "source": [
    "# Decomposition of variance step by step with Python"
   ]
  },
  {
   "cell_type": "markdown",
   "metadata": {},
   "source": [
    "For Statistical Method class,Ex 4, case B:\n",
    "\n",
    "The average frequency of words that are terms in a document is dependent on the\n",
    "category of the document? The following tables show the gathered data based on 500\n",
    "words documents. Analyse them and try to answer the question.\n",
    "\n",
    "\n",
    "Frequencies in documents of category A\n",
    "82 77 90 93 87 75 85 86 107 102\n",
    "\n",
    "Frequencies in documents of category B\n",
    "94 78 95 67 77 90 80 106 91 96\n",
    "\n"
   ]
  },
  {
   "cell_type": "markdown",
   "metadata": {},
   "source": [
    "Importing dependences:"
   ]
  },
  {
   "cell_type": "code",
   "execution_count": 10,
   "metadata": {
    "collapsed": true
   },
   "outputs": [],
   "source": [
    "import math\n",
    "import numpy\n"
   ]
  },
  {
   "cell_type": "markdown",
   "metadata": {},
   "source": [
    "Create a list for each document category:"
   ]
  },
  {
   "cell_type": "code",
   "execution_count": 11,
   "metadata": {
    "collapsed": true
   },
   "outputs": [],
   "source": [
    "freqs_catA = [82, 77, 90, 93, 87, 75, 85, 86, 107, 102]\n",
    "freqs_catB = [94, 78, 95, 67, 77, 90, 80, 106, 91, 96]"
   ]
  },
  {
   "cell_type": "markdown",
   "metadata": {},
   "source": [
    "Calculate overall mean frequency:"
   ]
  },
  {
   "cell_type": "code",
   "execution_count": 12,
   "metadata": {
    "collapsed": false
   },
   "outputs": [
    {
     "name": "stdout",
     "output_type": "stream",
     "text": [
      "General mean = 87.9\n"
     ]
    }
   ],
   "source": [
    "mean_y_all = (sum(freqs_catA) + sum(freqs_catB))/(len(freqs_catA)+len(freqs_catB))\n",
    "print (\"General mean = \"+ str(mean_y_all))"
   ]
  },
  {
   "cell_type": "markdown",
   "metadata": {},
   "source": [
    "Calculate total sum of squares:"
   ]
  },
  {
   "cell_type": "code",
   "execution_count": 13,
   "metadata": {
    "collapsed": false
   },
   "outputs": [
    {
     "name": "stdout",
     "output_type": "stream",
     "text": [
      "Total Sum of Squares (TSS)  = 2137.8\n"
     ]
    }
   ],
   "source": [
    "TSS = 0\n",
    "for datapoint in freqs_catA:\n",
    "\tTSS = TSS+((datapoint-mean_y_all)**2)\n",
    "for datapoint in freqs_catB:\n",
    "\tTSS = TSS+((datapoint-mean_y_all)**2)\n",
    "print(\"Total Sum of Squares (TSS)  = \"+str(TSS))"
   ]
  },
  {
   "cell_type": "markdown",
   "metadata": {},
   "source": [
    "Calculate the mean of each document category:"
   ]
  },
  {
   "cell_type": "code",
   "execution_count": 14,
   "metadata": {
    "collapsed": false
   },
   "outputs": [
    {
     "name": "stdout",
     "output_type": "stream",
     "text": [
      "Mean of category A = 88.4\n",
      "Mean of category B = 87.4\n"
     ]
    }
   ],
   "source": [
    "mean_y_catA = sum(freqs_catA)/len(freqs_catA)\n",
    "mean_y_catB = sum(freqs_catB)/len(freqs_catB)\n",
    "print(\"Mean of category A = \"+str(mean_y_catA))\n",
    "print(\"Mean of category B = \"+str(mean_y_catB))"
   ]
  },
  {
   "cell_type": "markdown",
   "metadata": {},
   "source": [
    "Calculate the Mean Sum of Squares:"
   ]
  },
  {
   "cell_type": "code",
   "execution_count": 15,
   "metadata": {
    "collapsed": false
   },
   "outputs": [
    {
     "name": "stdout",
     "output_type": "stream",
     "text": [
      "Mean sum of squares = 5.0\n"
     ]
    }
   ],
   "source": [
    "MSS = (((mean_y_catA-mean_y_all)**2)*len(freqs_catA)+((mean_y_catB-mean_y_all)**2)*len(freqs_catB))\n",
    "print(\"Mean sum of squares = \" +str(MSS))"
   ]
  },
  {
   "cell_type": "markdown",
   "metadata": {},
   "source": [
    "Calculate the Residual Sum of Squares:"
   ]
  },
  {
   "cell_type": "code",
   "execution_count": 16,
   "metadata": {
    "collapsed": false
   },
   "outputs": [
    {
     "name": "stdout",
     "output_type": "stream",
     "text": [
      "Residual sum of squares = 2132.8\n"
     ]
    }
   ],
   "source": [
    "RSS = 0\n",
    "for datapoint in freqs_catA:\n",
    "\tRSS = RSS+((datapoint-mean_y_catA)**2)\n",
    "for datapoint in freqs_catB:\n",
    "\tRSS = RSS+((datapoint-mean_y_catB)**2)\n",
    "print(\"Residual sum of squares = \" +str(RSS))"
   ]
  },
  {
   "cell_type": "markdown",
   "metadata": {},
   "source": [
    "Double-check that TSS= MSS+MSS"
   ]
  },
  {
   "cell_type": "code",
   "execution_count": 17,
   "metadata": {
    "collapsed": false
   },
   "outputs": [
    {
     "name": "stdout",
     "output_type": "stream",
     "text": [
      "2137.8\n"
     ]
    }
   ],
   "source": [
    "checking = TSS = MSS+RSS\n",
    "print(checking)"
   ]
  },
  {
   "cell_type": "markdown",
   "metadata": {},
   "source": [
    "Calculate R-squared"
   ]
  },
  {
   "cell_type": "code",
   "execution_count": 18,
   "metadata": {
    "collapsed": false
   },
   "outputs": [
    {
     "name": "stdout",
     "output_type": "stream",
     "text": [
      "R squared  = 0.0023443360840210052\n"
     ]
    }
   ],
   "source": [
    "r_squared = MSS/RSS\n",
    "print(\"R squared  = \" +str(r_squared))"
   ]
  },
  {
   "cell_type": "markdown",
   "metadata": {},
   "source": [
    "Calculate F-statistic:"
   ]
  },
  {
   "cell_type": "code",
   "execution_count": 19,
   "metadata": {
    "collapsed": false
   },
   "outputs": [
    {
     "name": "stdout",
     "output_type": "stream",
     "text": [
      "F-statistic  = 0.0445423855963991\n"
     ]
    }
   ],
   "source": [
    "F = (MSS/1)/(RSS/(20-1))\n",
    "print(\"F-statistic  = \" +str(F))"
   ]
  },
  {
   "cell_type": "code",
   "execution_count": null,
   "metadata": {
    "collapsed": true
   },
   "outputs": [],
   "source": []
  },
  {
   "cell_type": "code",
   "execution_count": null,
   "metadata": {
    "collapsed": true
   },
   "outputs": [],
   "source": []
  },
  {
   "cell_type": "code",
   "execution_count": null,
   "metadata": {
    "collapsed": true
   },
   "outputs": [],
   "source": []
  }
 ],
 "metadata": {
  "kernelspec": {
   "display_name": "Python 3",
   "language": "python",
   "name": "python3"
  },
  "language_info": {
   "codemirror_mode": {
    "name": "ipython",
    "version": 3
   },
   "file_extension": ".py",
   "mimetype": "text/x-python",
   "name": "python",
   "nbconvert_exporter": "python",
   "pygments_lexer": "ipython3",
   "version": "3.4.3"
  }
 },
 "nbformat": 4,
 "nbformat_minor": 0
}
